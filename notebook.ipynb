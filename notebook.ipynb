{
 "cells": [
  {
   "cell_type": "code",
   "execution_count": 55,
   "metadata": {},
   "outputs": [],
   "source": [
    "# some useful mysklearn package import statements and reloads\n",
    "import importlib\n",
    "\n",
    "import mysklearn.myutils\n",
    "importlib.reload(mysklearn.myutils)\n",
    "import mysklearn.myutils as myutils\n",
    "\n",
    "import mysklearn.mypytable\n",
    "importlib.reload(mysklearn.mypytable)\n",
    "from mysklearn.mypytable import MyPyTable \n",
    "\n",
    "import mysklearn.myclassifiers\n",
    "importlib.reload(mysklearn.myclassifiers)\n",
    "from mysklearn.myclassifiers import MyKNeighborsClassifier, MyDummyClassifier, MyNaiveBayesClassifier, MyDecisionTreeClassifier\n",
    "\n",
    "import mysklearn.myevaluation\n",
    "importlib.reload(mysklearn.myevaluation)\n",
    "import mysklearn.myevaluation as myevaluation\n"
   ]
  },
  {
   "cell_type": "code",
   "execution_count": null,
   "metadata": {},
   "outputs": [
    {
     "name": "stdout",
     "output_type": "stream",
     "text": [
      "Decision Tree Classifier: Accuracy = 0.74, Error Rate = 0.26, Precision = 0.7310, Recall = 0.7610, F1 Score = 0.7457\n",
      "╒═══════╤════════╤═════════╕\n",
      "│       │   True │   False │\n",
      "╞═══════╪════════╪═════════╡\n",
      "│ True  │    761 │     239 │\n",
      "├───────┼────────┼─────────┤\n",
      "│ False │    280 │     720 │\n",
      "╘═══════╧════════╧═════════╛\n",
      "IF estimated_diameter_min == 0 AND relative_velocity == 0 AND miss_distance == 0 THEN class = False.\n",
      "IF estimated_diameter_min == 0 AND relative_velocity == 0 AND miss_distance == 1 THEN class = False.\n",
      "IF estimated_diameter_min == 0 AND relative_velocity == 1 AND miss_distance == 0 THEN class = False.\n",
      "IF estimated_diameter_min == 0 AND relative_velocity == 1 AND miss_distance == 1 THEN class = False.\n",
      "IF estimated_diameter_min == 1 AND miss_distance == 0 AND relative_velocity == 0 THEN class = True.\n",
      "IF estimated_diameter_min == 1 AND miss_distance == 0 AND relative_velocity == 1 THEN class = True.\n",
      "IF estimated_diameter_min == 1 AND miss_distance == 1 AND relative_velocity == 0 THEN class = True.\n",
      "IF estimated_diameter_min == 1 AND miss_distance == 1 AND relative_velocity == 1 THEN class = True.\n"
     ]
    }
   ],
   "source": [
    "labels = [\"True\",\"False\"]\n",
    "space_table = MyPyTable().load_from_file('input_data/space.csv')\n",
    "\n",
    "space_table.remove_rows_with_missing_values()\n",
    "\n",
    "space_dict = myutils.count_label_occurrences(space_table.get_column(\"is_hazardous\"))\n",
    "for value in sorted(space_dict.keys()):\n",
    "    print(value,space_dict[value])\n",
    "    pass\n",
    "\n",
    "discretized_label_dict = myutils.preprocess_table(space_table)\n",
    "print(discretized_label_dict)\n",
    "y_true = space_table.get_column(space_table.column_names.index(\"is_hazardous\"))  \n",
    "X_train = [row[:space_table.column_names.index(\"is_hazardous\")] + row[space_table.column_names.index(\"is_hazardous\") + 1:] for row in space_table.data]\n",
    "\n",
    "tree_classifier = MyDecisionTreeClassifier()\n",
    "y_pred = myevaluation.cross_val_predict(tree_classifier,X_train,y_true,10)\n",
    "print(myevaluation.pseudo_classification_report(y_true,y_pred,labels))\n",
    " \n",
    "header = space_table.column_names\n",
    "tree_classifier.print_decision_rules(attribute_names=header)\n",
    "tree_classifier.visualize_tree(\n",
    "    \"space_tree.dot\", \"space_tree\", attribute_names=header\n",
    ")\n"
   ]
  }
 ],
 "metadata": {
  "kernelspec": {
   "display_name": "base",
   "language": "python",
   "name": "python3"
  },
  "language_info": {
   "codemirror_mode": {
    "name": "ipython",
    "version": 3
   },
   "file_extension": ".py",
   "mimetype": "text/x-python",
   "name": "python",
   "nbconvert_exporter": "python",
   "pygments_lexer": "ipython3",
   "version": "3.12.4"
  }
 },
 "nbformat": 4,
 "nbformat_minor": 2
}
