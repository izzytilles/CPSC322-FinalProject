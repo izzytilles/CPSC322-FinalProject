{
 "cells": [
  {
   "cell_type": "code",
   "execution_count": 105,
   "metadata": {},
   "outputs": [],
   "source": [
    "# some useful mysklearn package import statements and reloads\n",
    "import importlib\n",
    "import numpy as np\n",
    "\n",
    "import mysklearn.myutils\n",
    "importlib.reload(mysklearn.myutils)\n",
    "import mysklearn.myutils as myutils\n",
    "\n",
    "import mysklearn.mypytable\n",
    "importlib.reload(mysklearn.mypytable)\n",
    "from mysklearn.mypytable import MyPyTable \n",
    "\n",
    "import mysklearn.myclassifiers\n",
    "importlib.reload(mysklearn.myclassifiers)\n",
    "from mysklearn.myclassifiers import MyKNeighborsClassifier, MyDummyClassifier, MyNaiveBayesClassifier, MyDecisionTreeClassifier\n",
    "\n",
    "import mysklearn.myevaluation\n",
    "importlib.reload(mysklearn.myevaluation)\n",
    "import mysklearn.myevaluation as myevaluation\n"
   ]
  },
  {
   "cell_type": "code",
   "execution_count": 106,
   "metadata": {},
   "outputs": [
    {
     "name": "stdout",
     "output_type": "stream",
     "text": [
      "FALSE 295009\n",
      "TRUE 43162\n",
      "{'min_labels:': ['0.0 to 0.8', '0.8 to 1.6', '1.6 to 2.4', '2.4 to 3.2', '3.2 to 4.0'], 'max_labels:': ['0.0 to 1.8', '1.8 to 3.6', '3.6 to 5.4', '5.4 to 7.2', '7.2 to 9.0'], 'velocity_labels:': ['639.0 to 35949.9', '35949.9 to 71260.8', '71260.8 to 106571.7', '106571.7 to 141882.6', '141882.6 to 177193.5'], 'miss_labels:': ['166541.8 to 15081060.0', '15081060.0 to 29995578.1', '29995578.1 to 44910096.3', '44910096.3 to 59824614.4', '59824614.4 to 74739132.6']}\n",
      "IF relative_velocity == 0 AND miss_distance == 0 THEN class = FALSE.\n",
      "IF relative_velocity == 0 AND miss_distance == 1 THEN class = FALSE.\n",
      "IF relative_velocity == 0 AND miss_distance == 2 THEN class = FALSE.\n",
      "IF relative_velocity == 0 AND miss_distance == 3 THEN class = FALSE.\n",
      "IF relative_velocity == 0 AND miss_distance == 4 THEN class = FALSE.\n",
      "IF relative_velocity == 1 AND miss_distance == 0 THEN class = TRUE.\n",
      "IF relative_velocity == 1 AND miss_distance == 1 THEN class = TRUE.\n",
      "IF relative_velocity == 1 AND miss_distance == 2 THEN class = FALSE.\n",
      "IF relative_velocity == 1 AND miss_distance == 3 THEN class = FALSE.\n",
      "IF relative_velocity == 1 AND miss_distance == 4 THEN class = FALSE.\n",
      "IF relative_velocity == 2 AND miss_distance == 0 THEN class = TRUE.\n",
      "IF relative_velocity == 2 AND miss_distance == 1 THEN class = TRUE.\n",
      "IF relative_velocity == 2 AND miss_distance == 2 THEN class = TRUE.\n",
      "IF relative_velocity == 2 AND miss_distance == 3 THEN class = TRUE.\n",
      "IF relative_velocity == 2 AND miss_distance == 4 AND estimated_diameter_min == 0 THEN class = TRUE.\n",
      "IF relative_velocity == 2 AND miss_distance == 4 AND estimated_diameter_min == 1 THEN class = FALSE.\n",
      "IF relative_velocity == 2 AND miss_distance == 4 AND estimated_diameter_min == 2 THEN class = TRUE.\n",
      "IF relative_velocity == 2 AND miss_distance == 4 AND estimated_diameter_min == 4 THEN class = FALSE.\n",
      "IF relative_velocity == 3 AND miss_distance == 0 THEN class = TRUE.\n",
      "IF relative_velocity == 3 AND miss_distance == 1 THEN class = TRUE.\n",
      "IF relative_velocity == 3 AND miss_distance == 2 THEN class = TRUE.\n",
      "IF relative_velocity == 3 AND miss_distance == 3 THEN class = TRUE.\n",
      "IF relative_velocity == 3 AND miss_distance == 4 THEN class = TRUE.\n",
      "IF relative_velocity == 4 THEN class = TRUE.\n"
     ]
    }
   ],
   "source": [
    "space_table = MyPyTable().load_from_file('input_data/space.csv')\n",
    "\n",
    "space_table.remove_rows_with_missing_values()\n",
    "\n",
    "space_dict = myutils.count_label_occurrences(space_table.get_column(\"is_hazardous\"))\n",
    "for value in sorted(space_dict.keys()):\n",
    "    print(value,space_dict[value])\n",
    "\n",
    "discretized_label_dict = myutils.preprocess_table(space_table)\n",
    "print(discretized_label_dict)\n",
    "y = space_table.get_column(space_table.column_names.index(\"is_hazardous\"))  \n",
    "X = [row[:space_table.column_names.index(\"is_hazardous\")] + row[space_table.column_names.index(\"is_hazardous\") + 1:] for row in space_table.data]\n",
    "\n",
    "tree_classifier = MyDecisionTreeClassifier()\n",
    "tree_classifier.fit(X,y)\n",
    "\n",
    "header = space_table.column_names\n",
    "tree_classifier.print_decision_rules(attribute_names=header)\n",
    "tree_classifier.visualize_tree(\n",
    "    \"space_tree.dot\", \"space_tree\", attribute_names=header\n",
    ")\n"
   ]
  }
 ],
 "metadata": {
  "kernelspec": {
   "display_name": "base",
   "language": "python",
   "name": "python3"
  },
  "language_info": {
   "codemirror_mode": {
    "name": "ipython",
    "version": 3
   },
   "file_extension": ".py",
   "mimetype": "text/x-python",
   "name": "python",
   "nbconvert_exporter": "python",
   "pygments_lexer": "ipython3",
   "version": "3.12.4"
  }
 },
 "nbformat": 4,
 "nbformat_minor": 2
}
