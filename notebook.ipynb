{
 "cells": [
  {
   "cell_type": "markdown",
   "metadata": {},
   "source": [
    "# Nearest Earth Object Classification\n",
    "\n",
    "### By Michael D'Arcy-Evans and Isabel Tilles"
   ]
  },
  {
   "cell_type": "markdown",
   "metadata": {},
   "source": [
    "## Introduction:\n",
    "The solar system is a dangerous place. One fear that scientists have is that we will be harmed by an asteroid as it hurtles towards us from space, like the dinosaurs were. We spot objects like these coming towards Earth all the time, but how do we know if they are going to devastate us or simply provide a good comet show? We are seeking to solve that issue by creating a reliable classifier to determine whether or not a Near Earth Object (NEO) is hazardous.  \n",
    "We got our data from the [Nearest Earth Objects Dataset (1910-2024)](\\\"https://www.kaggle.com/datasets/ivansher/nasa-nearest-earth-objects-1910-2024\\\"). Based on these instances, we hope to predict whether or not other unseen instances of NEOs will be classified as `is_hazardous`.  \n",
    "#TODO: What classifier performed the best?\n",
    "\n",
    "## Imports for Analysis"
   ]
  },
  {
   "cell_type": "code",
   "execution_count": 63,
   "metadata": {},
   "outputs": [],
   "source": [
    "# some useful mysklearn package import statements and reloads\n",
    "import importlib\n",
    "\n",
    "import mysklearn.myutils\n",
    "importlib.reload(mysklearn.myutils)\n",
    "import mysklearn.myutils as myutils\n",
    "\n",
    "import mysklearn.mypytable\n",
    "importlib.reload(mysklearn.mypytable)\n",
    "from mysklearn.mypytable import MyPyTable \n",
    "\n",
    "import mysklearn.myclassifiers\n",
    "importlib.reload(mysklearn.myclassifiers)\n",
    "from mysklearn.myclassifiers import MyKNeighborsClassifier, MyDummyClassifier, MyNaiveBayesClassifier, MyDecisionTreeClassifier, MyRandomForestClassifier\n",
    "\n",
    "import mysklearn.myevaluation\n",
    "importlib.reload(mysklearn.myevaluation)\n",
    "import mysklearn.myevaluation as myevaluation\n"
   ]
  },
  {
   "cell_type": "markdown",
   "metadata": {},
   "source": [
    "## Data Analysis\n",
    "\n",
    "Before cleaning the dataset, this is what it looks like:"
   ]
  },
  {
   "cell_type": "code",
   "execution_count": 64,
   "metadata": {},
   "outputs": [
    {
     "name": "stdout",
     "output_type": "stream",
     "text": [
      "This dataset has 338171 instances and 9 attributes\n",
      "Dataset attribute breakdown:  neo_id is of type <class 'float'> \n",
      " name is of type <class 'str'> \n",
      " absolute_magnitude is of type <class 'float'> \n",
      " estimated_diameter_min is of type <class 'float'> \n",
      " estimated_diameter_max is of type <class 'float'> \n",
      " orbiting_body is of type <class 'str'> \n",
      " relative_velocity is of type <class 'float'> \n",
      " miss_distance is of type <class 'float'> \n",
      " is_hazardous is of type <class 'str'> .\n",
      "The attribute we are trying to predict is is_hazardous. It can be 2 different classifications: {'True', 'False'}.\n",
      "\n",
      "There are 295009 instances classified as False\n",
      "There are 43162 instances classified as True\n"
     ]
    }
   ],
   "source": [
    "labels = [\"True\",\"False\"]\n",
    "space_table = MyPyTable().load_from_file('input_data/space.csv')\n",
    "\n",
    "space_table.remove_rows_with_missing_values()\n",
    "myutils.print_dataset_info(space_table)\n",
    "\n",
    "space_dict = myutils.count_label_occurrences(space_table.get_column(\"is_hazardous\"))\n",
    "for value in sorted(space_dict.keys()):\n",
    "    print(f\"There are {space_dict[value]} instances classified as {value}\")\n",
    "    pass"
   ]
  },
  {
   "cell_type": "markdown",
   "metadata": {},
   "source": [
    "After cleaning the data to keep 1,000 instances of each classification, it looks like this:"
   ]
  },
  {
   "cell_type": "code",
   "execution_count": 65,
   "metadata": {},
   "outputs": [
    {
     "name": "stdout",
     "output_type": "stream",
     "text": [
      "This dataset has 2000 instances and 5 attributes\n",
      "Dataset attribute breakdown:  min_labels is of type <class 'int'> \n",
      " max_labels is of type <class 'int'> \n",
      " velocity_labels is of type <class 'int'> \n",
      " miss_labels is of type <class 'int'> \n",
      " is_hazardous is of type <class 'str'> .\n",
      "The attribute we are trying to predict is is_hazardous. It can be 2 different classifications: {'True', 'False'}.\n",
      "\n"
     ]
    }
   ],
   "source": [
    "discretized_label_dict = myutils.preprocess_table(space_table)\n",
    "y_true = space_table.get_column(space_table.column_names.index(\"is_hazardous\"))  \n",
    "X_train = [row[:space_table.column_names.index(\"is_hazardous\")] + row[space_table.column_names.index(\"is_hazardous\") + 1:] for row in space_table.data]\n",
    "clean_data = [value + [y_true[index]] for index, value in enumerate(X_train)]\n",
    "clean_space_table = MyPyTable(column_names=(list(discretized_label_dict.keys()) + [\"is_hazardous\"]), data = clean_data)\n",
    "\n",
    "myutils.print_dataset_info(clean_space_table)"
   ]
  },
  {
   "cell_type": "markdown",
   "metadata": {},
   "source": [
    "A decision tree fitted to this data returns this: "
   ]
  },
  {
   "cell_type": "code",
   "execution_count": 66,
   "metadata": {},
   "outputs": [
    {
     "name": "stdout",
     "output_type": "stream",
     "text": [
      "\n",
      " Decision Tree Classifier: Accuracy = 0.74, Error Rate = 0.26, Precision = 0.7159, Recall = 0.8040, F1 Score = 0.7574\n",
      "╒═════════════════╤════════╤═════════╕\n",
      "│ Is Hazardous:   │   True │   False │\n",
      "╞═════════════════╪════════╪═════════╡\n",
      "│ True            │    804 │     196 │\n",
      "├─────────────────┼────────┼─────────┤\n",
      "│ False           │    319 │     681 │\n",
      "╘═════════════════╧════════╧═════════╛\n",
      "Decision rules:\n",
      "IF estimated_diameter_min == 0 AND relative_velocity == 0 AND miss_distance == 0 THEN class = False.\n",
      "IF estimated_diameter_min == 0 AND relative_velocity == 0 AND miss_distance == 1 THEN class = False.\n",
      "IF estimated_diameter_min == 0 AND relative_velocity == 1 AND miss_distance == 0 THEN class = True.\n",
      "IF estimated_diameter_min == 0 AND relative_velocity == 1 AND miss_distance == 1 THEN class = False.\n",
      "IF estimated_diameter_min == 1 AND miss_distance == 0 AND relative_velocity == 0 THEN class = True.\n",
      "IF estimated_diameter_min == 1 AND miss_distance == 0 AND relative_velocity == 1 THEN class = True.\n",
      "IF estimated_diameter_min == 1 AND miss_distance == 1 AND relative_velocity == 0 THEN class = True.\n",
      "IF estimated_diameter_min == 1 AND miss_distance == 1 AND relative_velocity == 1 THEN class = True.\n"
     ]
    }
   ],
   "source": [
    "tree_classifier = MyDecisionTreeClassifier()\n",
    "y_pred = myevaluation.cross_val_predict(tree_classifier,X_train,y_true,10)\n",
    "print(\"\\n\", myevaluation.pseudo_classification_report(y_true,y_pred,labels))\n",
    " \n",
    "header = space_table.column_names\n",
    "print(\"Decision rules:\")\n",
    "tree_classifier.print_decision_rules(attribute_names=header)\n",
    "tree_classifier.visualize_tree(\n",
    "    \"space_tree.dot\", \"space_tree\", attribute_names=header\n",
    ")"
   ]
  },
  {
   "cell_type": "markdown",
   "metadata": {},
   "source": [
    "To evaluate our Decision Trees' quality, we chose to focus on getting the highest Recall because it is important to be able to predict a dangerous NEO as often as possible and a false negative would be devastating, while the consequences of a false positive are not as tragic."
   ]
  },
  {
   "cell_type": "markdown",
   "metadata": {},
   "source": []
  },
  {
   "cell_type": "markdown",
   "metadata": {},
   "source": []
  }
 ],
 "metadata": {
  "kernelspec": {
   "display_name": "base",
   "language": "python",
   "name": "python3"
  },
  "language_info": {
   "codemirror_mode": {
    "name": "ipython",
    "version": 3
   },
   "file_extension": ".py",
   "mimetype": "text/x-python",
   "name": "python",
   "nbconvert_exporter": "python",
   "pygments_lexer": "ipython3",
   "version": "3.12.4"
  }
 },
 "nbformat": 4,
 "nbformat_minor": 2
}
