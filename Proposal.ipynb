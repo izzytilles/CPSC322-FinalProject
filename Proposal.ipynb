{
 "cells": [
  {
   "cell_type": "markdown",
   "metadata": {},
   "source": [
    "# Dinosaur Bones Classification\n",
    "### By Izzy Tilles and Michael D'Arcy-Evans"
   ]
  },
  {
   "cell_type": "markdown",
   "metadata": {},
   "source": [
    "## Dataset Description\n",
    "We are using a dataset found on Kaggle called [Dinosaur Dataset](\"https://www.kaggle.com/datasets/smruthiiii/dinosaur-dataset\")  \n"
   ]
  },
  {
   "cell_type": "markdown",
   "metadata": {},
   "source": [
    "# Implementation/Technical Merit"
   ]
  },
  {
   "cell_type": "markdown",
   "metadata": {},
   "source": [
    "# Potential Impact "
   ]
  }
 ],
 "metadata": {
  "language_info": {
   "name": "python"
  }
 },
 "nbformat": 4,
 "nbformat_minor": 2
}
