{
 "cells": [
  {
   "cell_type": "markdown",
   "metadata": {},
   "source": [
    "# Dinosaur Bones Classification\n",
    "### By Izzy Tilles and Michael D'Arcy-Evans"
   ]
  },
  {
   "cell_type": "markdown",
   "metadata": {},
   "source": [
    "## Dataset Description\n",
    "We are using a dataset found on Kaggle called [Dinosaur Dataset](\"https://www.kaggle.com/datasets/smruthiiii/dinosaur-dataset\").  \n",
    "We are currently planning on looking at `diet` (omnivorous, carniviorous, herbivorous), `type` (small theropod, large theropod, sauropod, ornithopod, ceratopsian, armored dinosaur), `length_m` of dinosaurs as a discretized value, `max_ma` which is the age in which the first fossil records of the dinosaur were found, `min_ma` which is the age in which the last fossil records of the dinosaur were found, and `region`, to predict if the Dinosaur fossils are members of the taxonomical class `Saurischia` or `Ornithischia`.\n"
   ]
  },
  {
   "cell_type": "markdown",
   "metadata": {},
   "source": [
    "# Implementation/Technical Merit\n",
    "\n",
    "Anticipated challenges in pre-processing and/or classification:\n",
    "- Three of the variables: `length_m`, `min_ma`, `max_ma` are essentially indicator variables which are fixed responsively to a specific dinosaur name:  \n",
    "    - `length_m` describes the maximum length of the dinosaur in meters.\n",
    "        - Has a range of 0.45 m to 35.0 m\n",
    "    - `min_ma` describes the minimum age in millions of years that the fossil is found in the fossil record.\n",
    "        - Has a range of 66.0 Mya to 228.0 Mya\n",
    "    - `max_ma` describes the maximum age in millions of years that the fossil is found in the fossil reccord.\n",
    "        - Has a range of 70.0 Mya to 237.0 Mya\n",
    "- In order to reasonably interpret this data we will need to discretize each range into disjoint bins. The other issue stemming from the fixed variables may potentially arise when attempting to implement a holdout method for training and testing of our model since the values provided in the testing set would be exact matches to the training data for `length_m`, `min_ma` and `max_ma` which would not necessarily do a good job at reflecting the potential variability in gathered data.\n",
    "\n",
    "\n",
    "If the number of attributes is large, how will you explore feature selection techniques to pare down the attributes?\n",
    "- Initially our dataset was skewed toward `Saurischia` with approximately **62.1%** of the class distribution, while `Ornithschia` held the remaining **37.9%**. After doing some basic data clearning where any rows containing *\"NA\"* or the empty string *\"\"* were removed. This reduced our total number of instances from **4,951** to **2,793**. The updated distribution of class labels is approximately **59.2%** `Saurischia` and **40.8%** `Ornithischia`.\n",
    "- Depending on the precision and accuracy of our classifier we may need to further reduce the total number of instances while attempting to approach an even-split distribution of our two class labels."
   ]
  },
  {
   "cell_type": "markdown",
   "metadata": {},
   "source": [
    "## Potential Impact \n",
    "Our finished product can be useful for paleontologists to determine the taxonomical class of a fossil they have just found. Often the defining feature distinguishing a Saurischian fossil from an Ornithischian fossil is the shape of their hip bones, but if a paleontologist is unable to locate that bone, this could be a helpful tool for hypothesizing.  \n",
    "This tool would be most useful to paleontologists and possibly museum curators, as those are the people most likely to have unclassified dinosaur bones in their possession. "
   ]
  }
 ],
 "metadata": {
  "language_info": {
   "name": "python"
  }
 },
 "nbformat": 4,
 "nbformat_minor": 2
}
